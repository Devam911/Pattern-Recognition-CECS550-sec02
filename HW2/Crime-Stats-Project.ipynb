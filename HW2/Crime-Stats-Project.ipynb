{
 "cells": [
  {
   "cell_type": "markdown",
   "id": "55e6b918-afac-43e8-b338-43f8ac64014f",
   "metadata": {},
   "source": [
    "##  Deep Neural Networks Project"
   ]
  },
  {
   "cell_type": "markdown",
   "id": "1a8e066d-2849-4a6e-9c71-bb98d605ae07",
   "metadata": {},
   "source": [
    "In this project, you will be working with a real-world data set from the Las Vegas Metropolitan Police Department. The dataset  contains information about the reported incidents, including the time and location of the crime, type of incident, and number of persons involved. "
   ]
  },
  {
   "cell_type": "markdown",
   "id": "9e87fac7-352a-4c39-b087-76254b5e2743",
   "metadata": {},
   "source": [
    "The dataset is downloaded from the public docket at: \n",
    "https://opendata-lvmpd.hub.arcgis.com\n",
    "\n",
    "let's read the csv file and transform the data:"
   ]
  },
  {
   "cell_type": "code",
   "execution_count": 1,
   "id": "637211a4-582f-426b-a127-c3f284463f35",
   "metadata": {},
   "outputs": [],
   "source": [
    "import torch\n",
    "import pandas as pd\n",
    "from torch.utils.data import DataLoader, Dataset, TensorDataset\n",
    "import matplotlib.pyplot as plt\n",
    "import seaborn as sns\n",
    "import numpy as np"
   ]
  },
  {
   "cell_type": "code",
   "execution_count": 2,
   "id": "bcf40b02-80b6-4abc-a662-f7ed50a65181",
   "metadata": {},
   "outputs": [],
   "source": [
    "orig_df = pd.read_csv('../datasets/LVMPD-Stats.csv', parse_dates=['ReportedOn'])"
   ]
  },
  {
   "cell_type": "code",
   "execution_count": 3,
   "id": "e1ca1d15-3955-4971-a3c4-c1a73b62edda",
   "metadata": {},
   "outputs": [],
   "source": [
    "df = pd.read_csv('../datasets/LVMPD-Stats.csv', parse_dates=['ReportedOn'],\n",
    "                 usecols = ['X', 'Y', 'ReportedOn',\n",
    "                            'Area_Command','NIBRSOffenseCode',\n",
    "                            'VictimCount' ] )\n",
    "\n",
    "df['DayOfWeek'] = df['ReportedOn'].dt.day_name()\n",
    "df['Time' ]     = df['ReportedOn'].dt.hour\n",
    "df.drop(columns = 'ReportedOn', inplace=True)"
   ]
  },
  {
   "cell_type": "code",
   "execution_count": 4,
   "id": "3ddc413d-ba3f-4204-bc18-7fdd4de8d221",
   "metadata": {},
   "outputs": [],
   "source": [
    "\n",
    "df['X'] = df['X'] \n",
    "df['Y'] = df['Y'] \n",
    "df['Time'] = pd.factorize(df['Time'])[0]\n",
    "df['DayOfWeek'] = pd.factorize(df['DayOfWeek'])[0]\n",
    "df.Area_Command = pd.factorize(df['Area_Command'])[0]\n",
    "df.VictimCount = pd.factorize(df['VictimCount'])[0]\n",
    "df.NIBRSOffenseCode = pd.factorize(df['NIBRSOffenseCode'])[0]\n",
    "df.dropna(inplace=True)"
   ]
  },
  {
   "cell_type": "code",
   "execution_count": 5,
   "id": "a9c6162f-9686-4195-818d-950a6368c686",
   "metadata": {},
   "outputs": [],
   "source": [
    "df= df[['X', 'Y', 'Area_Command', 'NIBRSOffenseCode',\n",
    "       'DayOfWeek', 'Time','VictimCount']]"
   ]
  },
  {
   "cell_type": "code",
   "execution_count": 6,
   "id": "a90bc78a-6d1b-4fe4-a1b0-8333aec1c851",
   "metadata": {},
   "outputs": [
    {
     "data": {
      "text/plain": [
       "(275, 7)"
      ]
     },
     "execution_count": 6,
     "metadata": {},
     "output_type": "execute_result"
    }
   ],
   "source": [
    "df.values.shape"
   ]
  },
  {
   "cell_type": "markdown",
   "id": "651605b1-8d2c-4d3e-a09e-9aef6e550fc6",
   "metadata": {},
   "source": [
    "# Goal\n",
    "The goal is to build a predictive model that is trained on the following data:\n",
    "* latitude and longitude (location)\n",
    "* Hour of the day\n",
    "* Day of the week\n",
    "* Area-of-command code: The police designation of the bureau of the operation.\n",
    "* Classification code for the crime committed\n",
    "  \n",
    "The predicted variable is the number of persons involved in the accident.\n"
   ]
  },
  {
   "cell_type": "markdown",
   "id": "0e54f0b8-83f9-4db9-88f9-f5a595342069",
   "metadata": {},
   "source": [
    "## Task 1\n",
    "* print a few rows of the values in the dataframe ``df`` and explain what each column of data means. \n",
    "* identify the input and target variables\n",
    "* what is the range of values in each column? Do you need to scale, shift or normalize your data? \n"
   ]
  },
  {
   "cell_type": "code",
   "execution_count": 7,
   "id": "4544589c",
   "metadata": {},
   "outputs": [
    {
     "data": {
      "text/html": [
       "<div>\n",
       "<style scoped>\n",
       "    .dataframe tbody tr th:only-of-type {\n",
       "        vertical-align: middle;\n",
       "    }\n",
       "\n",
       "    .dataframe tbody tr th {\n",
       "        vertical-align: top;\n",
       "    }\n",
       "\n",
       "    .dataframe thead th {\n",
       "        text-align: right;\n",
       "    }\n",
       "</style>\n",
       "<table border=\"1\" class=\"dataframe\">\n",
       "  <thead>\n",
       "    <tr style=\"text-align: right;\">\n",
       "      <th></th>\n",
       "      <th>X</th>\n",
       "      <th>Y</th>\n",
       "      <th>Area_Command</th>\n",
       "      <th>NIBRSOffenseCode</th>\n",
       "      <th>DayOfWeek</th>\n",
       "      <th>Time</th>\n",
       "      <th>VictimCount</th>\n",
       "    </tr>\n",
       "  </thead>\n",
       "  <tbody>\n",
       "    <tr>\n",
       "      <th>0</th>\n",
       "      <td>-115.087518</td>\n",
       "      <td>36.216702</td>\n",
       "      <td>0</td>\n",
       "      <td>0</td>\n",
       "      <td>0</td>\n",
       "      <td>0</td>\n",
       "      <td>0</td>\n",
       "    </tr>\n",
       "    <tr>\n",
       "      <th>1</th>\n",
       "      <td>-115.240172</td>\n",
       "      <td>36.189693</td>\n",
       "      <td>1</td>\n",
       "      <td>1</td>\n",
       "      <td>1</td>\n",
       "      <td>1</td>\n",
       "      <td>0</td>\n",
       "    </tr>\n",
       "    <tr>\n",
       "      <th>2</th>\n",
       "      <td>-115.143088</td>\n",
       "      <td>36.181329</td>\n",
       "      <td>2</td>\n",
       "      <td>1</td>\n",
       "      <td>2</td>\n",
       "      <td>0</td>\n",
       "      <td>1</td>\n",
       "    </tr>\n",
       "    <tr>\n",
       "      <th>3</th>\n",
       "      <td>-115.225014</td>\n",
       "      <td>36.117633</td>\n",
       "      <td>3</td>\n",
       "      <td>1</td>\n",
       "      <td>1</td>\n",
       "      <td>2</td>\n",
       "      <td>2</td>\n",
       "    </tr>\n",
       "    <tr>\n",
       "      <th>4</th>\n",
       "      <td>-115.176708</td>\n",
       "      <td>36.095967</td>\n",
       "      <td>4</td>\n",
       "      <td>1</td>\n",
       "      <td>1</td>\n",
       "      <td>3</td>\n",
       "      <td>0</td>\n",
       "    </tr>\n",
       "  </tbody>\n",
       "</table>\n",
       "</div>"
      ],
      "text/plain": [
       "            X          Y  Area_Command  NIBRSOffenseCode  DayOfWeek  Time   \n",
       "0 -115.087518  36.216702             0                 0          0     0  \\\n",
       "1 -115.240172  36.189693             1                 1          1     1   \n",
       "2 -115.143088  36.181329             2                 1          2     0   \n",
       "3 -115.225014  36.117633             3                 1          1     2   \n",
       "4 -115.176708  36.095967             4                 1          1     3   \n",
       "\n",
       "   VictimCount  \n",
       "0            0  \n",
       "1            0  \n",
       "2            1  \n",
       "3            2  \n",
       "4            0  "
      ]
     },
     "execution_count": 7,
     "metadata": {},
     "output_type": "execute_result"
    }
   ],
   "source": [
    "df.head()"
   ]
  },
  {
   "cell_type": "markdown",
   "id": "5f8a0bd1",
   "metadata": {},
   "source": [
    "### Explain what each column of data means\n",
    "\n",
    "- X and Y: They are the coordinates(Latitude and Longitude) of the location where the incident was reported.\n",
    "\n",
    "- Area_Command: The police department that is in charge of the area, So each department has its numerical code.\n",
    "\n",
    "- NIBRSOffenseCode: Its the code for the classification of the crime committed. Each numerical value classifies different crime.\n",
    "\n",
    "- DayOfWeek: The day of the week when the incident was reported (0 for Sunday, 1 for Monday, and so on).\n",
    "\n",
    "- Time: The hour of the day(in number denote the hours of the day) when the incident was reported .\n",
    "\n",
    "- VictimCount: The number of persons involved in the incident."
   ]
  },
  {
   "cell_type": "markdown",
   "id": "2a070646",
   "metadata": {},
   "source": [
    "### Identify the input and target variables\n",
    "\n",
    "**Input Variables:**\n",
    "- Latitude (X)\n",
    "- Longitude (Y)\n",
    "- Hour of the day (Time)\n",
    "- Day of the week (DayOfWeek)\n",
    "- Area-of-command code (Area_Command)\n",
    "- Classification code for the crime committed (NIBRSOffenseCode)\n",
    "\n",
    "**Target Variable:**\n",
    "- Number of persons involved in the incident (VictimCount)\n"
   ]
  },
  {
   "cell_type": "markdown",
   "id": "2a2c3632",
   "metadata": {},
   "source": [
    "### What is the range of values in each column? Do you need to scale, shift or normalize your data?\n",
    "\n",
    "- X: The range of latitude hovers over the area of Las vegas and should vary by decimal points(-115.xxxxx).\n",
    "- Y: The range of longitude hovers over the area of Las vegas and should vary by decimal points(36.xxxxx).\n",
    "- Area_Command: The range of integers depends on the number of unique area commands in the dataset.\n",
    "- NIBRSOffenseCode: The range of integers depends on the number of unique offense codes in the dataset.\n",
    "- DayOfWeek: It ranges from 0 to 6 representing Monday to Sunday.\n",
    "- Time: It ranges from 0 to 23  representing the unique hours of the day.\n",
    "- VictimCount: The Integer range depends on the number of unique victim counts in the dataset."
   ]
  },
  {
   "cell_type": "markdown",
   "id": "5549ecc9-3c0b-4efa-9a1f-340a25a1e4be",
   "metadata": {},
   "source": [
    "## Task 2 \n",
    "\n",
    "* Create two `DataLoader` objects for training and testing based on the input and output variables. Pick a reasonable batch size and verify the shape of data by iterating over the one dataset and printing the shape of the batched data. "
   ]
  },
  {
   "cell_type": "code",
   "execution_count": 8,
   "id": "00fe4287-934b-4799-9e43-c3571acfbab4",
   "metadata": {},
   "outputs": [
    {
     "name": "stdout",
     "output_type": "stream",
     "text": [
      "Input shape: torch.Size([64, 6])\n",
      "Target shape: torch.Size([64])\n"
     ]
    }
   ],
   "source": [
    "# Converting DataFrame to PyTorch tensors\n",
    "X = torch.Tensor(df[['X', 'Y', 'Area_Command', 'NIBRSOffenseCode', 'DayOfWeek', 'Time']].values)\n",
    "y = torch.Tensor(df['VictimCount'].values)\n",
    "\n",
    "batch_size = 64\n",
    "\n",
    "# Creating TensorDataset and DataLoader for training and testing\n",
    "dataset = TensorDataset(X, y)\n",
    "\n",
    "train_size = int(0.8 * len(dataset))\n",
    "test_size = int(0.2 * len(dataset))\n",
    "train_dataset, test_dataset = torch.utils.data.random_split(dataset, [train_size, test_size])\n",
    "\n",
    "train_loader = DataLoader(train_dataset, batch_size=batch_size, shuffle=True)\n",
    "test_loader = DataLoader(test_dataset, batch_size=batch_size, shuffle=False)\n",
    "\n",
    "for batch in train_loader:\n",
    "    inputs, targets = batch\n",
    "    print(\"Input shape:\", inputs.shape)\n",
    "    print(\"Target shape:\", targets.shape)\n",
    "    break"
   ]
  },
  {
   "cell_type": "markdown",
   "id": "1fb6f08c-5e70-4b14-b62c-4686d9f7aace",
   "metadata": {},
   "source": [
    "## Task 3\n",
    "In this task you will try to predict number of crime victims as a **real number**. Therefore the machine learning problem is a **regression** problem. \n",
    "\n",
    "* Define the proper loss function for this task\n",
    "* what should the size of the predicted output be?\n",
    "* explain your choice of architecture, including how many layers you will be using\n",
    "* define an optimizer for training this model, choose a proper learning rate \n",
    "* write a training loop that obtains a batch out of the  training data and calculates the forward and backward passes over the neural network. Call the optimizer to update the weights of the neural network.\n",
    "* write a for loop that continues the training over a number of epochs. At the end of each epoch, calculate the ``MSE`` error on the test data and print it.\n",
    "* is your model training well? Adjust the learning rate, hidden size of the network, and try different activation functions and number of layers to achieve the best accuracy and report it. "
   ]
  },
  {
   "cell_type": "code",
   "execution_count": 9,
   "id": "e5fe964c",
   "metadata": {},
   "outputs": [
    {
     "name": "stdout",
     "output_type": "stream",
     "text": [
      "Epoch [1/50] - Train MSE: 1.5058 - Test MSE: 0.8542\n",
      "Epoch [2/50] - Train MSE: 1.0611 - Test MSE: 0.7477\n",
      "Epoch [3/50] - Train MSE: 0.9926 - Test MSE: 0.7323\n",
      "Epoch [4/50] - Train MSE: 1.0310 - Test MSE: 0.7379\n",
      "Epoch [5/50] - Train MSE: 1.1240 - Test MSE: 0.7797\n",
      "Epoch [6/50] - Train MSE: 0.9685 - Test MSE: 0.7578\n",
      "Epoch [7/50] - Train MSE: 0.9501 - Test MSE: 0.7628\n",
      "Epoch [8/50] - Train MSE: 1.0927 - Test MSE: 0.7462\n",
      "Epoch [9/50] - Train MSE: 1.0002 - Test MSE: 0.7900\n",
      "Epoch [10/50] - Train MSE: 1.0507 - Test MSE: 0.7369\n",
      "Epoch [11/50] - Train MSE: 1.1306 - Test MSE: 0.7442\n",
      "Epoch [12/50] - Train MSE: 1.1027 - Test MSE: 0.7884\n",
      "Epoch [13/50] - Train MSE: 1.0059 - Test MSE: 0.7388\n",
      "Epoch [14/50] - Train MSE: 1.0402 - Test MSE: 0.7398\n",
      "Epoch [15/50] - Train MSE: 0.9429 - Test MSE: 0.7579\n",
      "Epoch [16/50] - Train MSE: 1.0645 - Test MSE: 0.7359\n",
      "Epoch [17/50] - Train MSE: 0.9970 - Test MSE: 0.7609\n",
      "Epoch [18/50] - Train MSE: 0.9885 - Test MSE: 0.7371\n",
      "Epoch [19/50] - Train MSE: 1.0049 - Test MSE: 0.7457\n",
      "Epoch [20/50] - Train MSE: 0.9883 - Test MSE: 0.7424\n",
      "Epoch [21/50] - Train MSE: 0.9930 - Test MSE: 0.7397\n",
      "Epoch [22/50] - Train MSE: 1.2666 - Test MSE: 0.7458\n",
      "Epoch [23/50] - Train MSE: 0.9992 - Test MSE: 0.7700\n",
      "Epoch [24/50] - Train MSE: 1.0772 - Test MSE: 0.7358\n",
      "Epoch [25/50] - Train MSE: 0.9726 - Test MSE: 0.7396\n",
      "Epoch [26/50] - Train MSE: 1.0054 - Test MSE: 0.7513\n",
      "Epoch [27/50] - Train MSE: 1.1297 - Test MSE: 0.7362\n",
      "Epoch [28/50] - Train MSE: 0.9732 - Test MSE: 0.7571\n",
      "Epoch [29/50] - Train MSE: 1.0404 - Test MSE: 0.7349\n",
      "Epoch [30/50] - Train MSE: 1.0968 - Test MSE: 0.7642\n",
      "Epoch [31/50] - Train MSE: 1.0058 - Test MSE: 0.7419\n",
      "Epoch [32/50] - Train MSE: 0.9316 - Test MSE: 0.7366\n",
      "Epoch [33/50] - Train MSE: 1.0811 - Test MSE: 0.7398\n",
      "Epoch [34/50] - Train MSE: 1.0596 - Test MSE: 0.7829\n",
      "Epoch [35/50] - Train MSE: 1.0571 - Test MSE: 0.7370\n",
      "Epoch [36/50] - Train MSE: 1.0751 - Test MSE: 0.7447\n",
      "Epoch [37/50] - Train MSE: 1.0502 - Test MSE: 0.7905\n",
      "Epoch [38/50] - Train MSE: 1.0098 - Test MSE: 0.7393\n",
      "Epoch [39/50] - Train MSE: 0.9804 - Test MSE: 0.7491\n",
      "Epoch [40/50] - Train MSE: 1.0014 - Test MSE: 0.7340\n",
      "Epoch [41/50] - Train MSE: 0.9397 - Test MSE: 0.7437\n",
      "Epoch [42/50] - Train MSE: 0.9715 - Test MSE: 0.7518\n",
      "Epoch [43/50] - Train MSE: 0.9953 - Test MSE: 0.7416\n",
      "Epoch [44/50] - Train MSE: 1.1335 - Test MSE: 0.7477\n",
      "Epoch [45/50] - Train MSE: 1.0441 - Test MSE: 0.7924\n",
      "Epoch [46/50] - Train MSE: 1.0540 - Test MSE: 0.7369\n",
      "Epoch [47/50] - Train MSE: 1.0325 - Test MSE: 0.7348\n",
      "Epoch [48/50] - Train MSE: 1.0564 - Test MSE: 0.7730\n",
      "Epoch [49/50] - Train MSE: 1.0033 - Test MSE: 0.7395\n",
      "Epoch [50/50] - Train MSE: 0.9670 - Test MSE: 0.7355\n",
      "Final Test MSE: 0.7355\n"
     ]
    }
   ],
   "source": [
    "import torch.nn as nn\n",
    "import torch.optim as optim\n",
    "\n",
    "# Defining the loss function as mean squared error\n",
    "loss_function = nn.MSELoss()\n",
    "\n",
    "# Defining a sequential model\n",
    "model = nn.Sequential(\n",
    "    nn.Linear(6, 64),\n",
    "    nn.ReLU(),\n",
    "    nn.Linear(64, 128),\n",
    "    nn.ReLU(),\n",
    "    nn.Linear(128, 128),\n",
    "    nn.ReLU(),\n",
    "    nn.Linear(128, 64),\n",
    "    nn.ReLU(),\n",
    "    nn.Linear(64, 1)\n",
    ")\n",
    "\n",
    "# Selecting adam as optimizer and learning rate = 0.001\n",
    "optimizer = optim.Adam(model.parameters(), lr=0.001)\n",
    "\n",
    "# Training loop\n",
    "num_epochs = 50\n",
    "train_losses = []\n",
    "test_losses = []\n",
    "\n",
    "\n",
    "for epoch in range(num_epochs):\n",
    "    model.train()\n",
    "    train_loss = 0.0\n",
    "    \n",
    "    # Calculating the loss and adjusting the weights for best accuarcy\n",
    "    for inputs, targets in train_loader:\n",
    "        optimizer.zero_grad()\n",
    "        outputs = model(inputs)\n",
    "        loss = loss_function(outputs, targets.view(-1, 1))\n",
    "        loss.backward()\n",
    "        optimizer.step()\n",
    "        train_loss += loss.item()\n",
    "    train_losses.append(train_loss / len(train_loader))\n",
    "\n",
    "    model.eval()\n",
    "    test_loss = 0.0\n",
    "    with torch.no_grad():\n",
    "        for inputs, targets in test_loader:\n",
    "            outputs = model(inputs)\n",
    "            loss = loss_function(outputs, targets.view(-1, 1))\n",
    "            test_loss += loss.item()\n",
    "    test_losses.append(test_loss / len(test_loader))\n",
    "\n",
    "    print(f\"Epoch [{epoch+1}/{num_epochs}] - Train MSE: {train_losses[-1]:.4f} - Test MSE: {test_losses[-1]:.4f}\")\n",
    "\n",
    "final_test_loss = test_losses[-1]\n",
    "print(f\"Final Test MSE: {final_test_loss:.4f}\")\n"
   ]
  },
  {
   "cell_type": "markdown",
   "id": "c9d61537",
   "metadata": {},
   "source": [
    "### What should the size of the predicted output be?\n",
    "The size of the predicted output should be 1 since we are predicting the number of victims involved(VictimCount) in the crime."
   ]
  },
  {
   "cell_type": "markdown",
   "id": "37ca0638",
   "metadata": {},
   "source": [
    "### Explain your choice of architecture, including how many layers you will be using\n",
    "\n",
    "The architecture is a feedforward neural network consisting of several fully connected (linear) layers with ReLU activation functions inbetween the linear layers.\n",
    "\n",
    "- **Input Layer**: You start with an input layer with 6 units. This number corresponds to the number of features or input dimensions in your data.\n",
    "\n",
    "- **Hidden Layers**: You have a series of hidden layers, each with a different number of units. This architecture allows the network to learn and capture complex patterns and relationships within the data. You have chosen the following hidden layers:\n",
    "   - Layer 1: 64 units with ReLU activation.\n",
    "   - Layer 2: 128 units with ReLU activation.\n",
    "   - Layer 3: 128 units with ReLU activation.\n",
    "   - Layer 4: 64 units with ReLU activation.\n",
    "\n",
    "\n",
    "- **Output Layer**: The output layer has 1 unit which corresponds to the regression nature of the problem. The goal is to predict a continuous value (real number), and therefore, you only need a single unit in the output layer.\n",
    "\n",
    "The choice of the number of units in each layer depends on the complexity of your dataset and the problem you're trying to solve. After changing the number of units, adding or removing layers, and trying different activation functions, to find the best architecture for the specific regression task."
   ]
  },
  {
   "cell_type": "markdown",
   "id": "557ffc4b",
   "metadata": {},
   "source": [
    "## Task 4 \n",
    "\n",
    "In this task, you will try to predict the number of crime victims as a **class number**. Therefore the machine learning problem is a **classification** problem. \n",
    "\n",
    "* Repeat all the steps in task 3. Specifically, pay attention to the differences with regression.\n",
    "* How would you find the number of classes on the output data?\n",
    "* How is the architecture different?\n",
    "* How is the loss function different?\n",
    "* Calculate the Accuracy for test data as the number of correct classified outputs divided by the total number of test data in each epoch. Report it at the end of each epoch\n",
    "* Try a few variations of learning rate, hidden dimensions, layers, etc. What is the best accuracy that you can get? "
   ]
  },
  {
   "cell_type": "code",
   "execution_count": 10,
   "id": "2f90583e",
   "metadata": {},
   "outputs": [],
   "source": [
    "# Function to calculate the accuracy of the dataset\n",
    "def calculate_accuracy(outputs, targets):\n",
    "    _, predicted = torch.max(outputs, 1)\n",
    "    correct = (predicted == targets).sum().item()\n",
    "    accuracy = correct / len(targets)\n",
    "    return accuracy"
   ]
  },
  {
   "cell_type": "code",
   "execution_count": 11,
   "id": "adee878a",
   "metadata": {},
   "outputs": [
    {
     "name": "stdout",
     "output_type": "stream",
     "text": [
      "Epoch [1/50] - Accuracy: 52.7273%\n",
      "Epoch [2/50] - Accuracy: 52.7273%\n",
      "Epoch [3/50] - Accuracy: 52.7273%\n",
      "Epoch [4/50] - Accuracy: 52.7273%\n",
      "Epoch [5/50] - Accuracy: 52.7273%\n",
      "Epoch [6/50] - Accuracy: 52.7273%\n",
      "Epoch [7/50] - Accuracy: 52.7273%\n",
      "Epoch [8/50] - Accuracy: 52.7273%\n",
      "Epoch [9/50] - Accuracy: 52.7273%\n",
      "Epoch [10/50] - Accuracy: 52.7273%\n",
      "Epoch [11/50] - Accuracy: 52.7273%\n",
      "Epoch [12/50] - Accuracy: 52.7273%\n",
      "Epoch [13/50] - Accuracy: 54.5455%\n",
      "Epoch [14/50] - Accuracy: 52.7273%\n",
      "Epoch [15/50] - Accuracy: 52.7273%\n",
      "Epoch [16/50] - Accuracy: 52.7273%\n",
      "Epoch [17/50] - Accuracy: 52.7273%\n",
      "Epoch [18/50] - Accuracy: 52.7273%\n",
      "Epoch [19/50] - Accuracy: 54.5455%\n",
      "Epoch [20/50] - Accuracy: 52.7273%\n",
      "Epoch [21/50] - Accuracy: 52.7273%\n",
      "Epoch [22/50] - Accuracy: 52.7273%\n",
      "Epoch [23/50] - Accuracy: 52.7273%\n",
      "Epoch [24/50] - Accuracy: 52.7273%\n",
      "Epoch [25/50] - Accuracy: 52.7273%\n",
      "Epoch [26/50] - Accuracy: 52.7273%\n",
      "Epoch [27/50] - Accuracy: 52.7273%\n",
      "Epoch [28/50] - Accuracy: 50.9091%\n",
      "Epoch [29/50] - Accuracy: 52.7273%\n",
      "Epoch [30/50] - Accuracy: 52.7273%\n",
      "Epoch [31/50] - Accuracy: 52.7273%\n",
      "Epoch [32/50] - Accuracy: 52.7273%\n",
      "Epoch [33/50] - Accuracy: 52.7273%\n",
      "Epoch [34/50] - Accuracy: 54.5455%\n",
      "Epoch [35/50] - Accuracy: 52.7273%\n",
      "Epoch [36/50] - Accuracy: 52.7273%\n",
      "Epoch [37/50] - Accuracy: 56.3636%\n",
      "Epoch [38/50] - Accuracy: 52.7273%\n",
      "Epoch [39/50] - Accuracy: 52.7273%\n",
      "Epoch [40/50] - Accuracy: 52.7273%\n",
      "Epoch [41/50] - Accuracy: 52.7273%\n",
      "Epoch [42/50] - Accuracy: 52.7273%\n",
      "Epoch [43/50] - Accuracy: 56.3636%\n",
      "Epoch [44/50] - Accuracy: 52.7273%\n",
      "Epoch [45/50] - Accuracy: 52.7273%\n",
      "Epoch [46/50] - Accuracy: 52.7273%\n",
      "Epoch [47/50] - Accuracy: 52.7273%\n",
      "Epoch [48/50] - Accuracy: 52.7273%\n",
      "Epoch [49/50] - Accuracy: 52.7273%\n",
      "Epoch [50/50] - Accuracy: 52.7273%\n",
      "Best Test Accuracy: 56.36%\n"
     ]
    }
   ],
   "source": [
    "# Initializing the number of unique classes in the output data\n",
    "num_classes = len(df['VictimCount'].unique())\n",
    "\n",
    "# Changing the loss function to crossentropy for classification\n",
    "loss_function = nn.CrossEntropyLoss()\n",
    "\n",
    "# Defining the sequential model just changing the output size to the number of classes\n",
    "model = nn.Sequential(\n",
    "    nn.Linear(6, 64),\n",
    "    nn.ReLU(),\n",
    "    nn.Linear(64, 128),\n",
    "    nn.ReLU(),\n",
    "    nn.Linear(128, 128),\n",
    "    nn.ReLU(),\n",
    "    nn.Linear(128, 64),\n",
    "    nn.ReLU(),\n",
    "    nn.Linear(64, num_classes),\n",
    ")\n",
    "\n",
    "# Defining adam optimizer and leraning rate as 0.001\n",
    "optimizer = optim.Adam(model.parameters(), lr=0.001)\n",
    "\n",
    "# Calculating the loss and updating the weights.\n",
    "num_epochs = 50\n",
    "best_accuracy = 0.0\n",
    "\n",
    "for epoch in range(num_epochs):\n",
    "    model.train()\n",
    "    train_loss = 0.0\n",
    "    for inputs, targets in train_loader:\n",
    "        optimizer.zero_grad()\n",
    "        outputs = model(inputs)\n",
    "        targets = targets.long()\n",
    "        loss = loss_function(outputs, targets)\n",
    "        loss.backward()\n",
    "        optimizer.step()\n",
    "        train_loss += loss.item()\n",
    "\n",
    "    model.eval()\n",
    "    correct_predictions = 0\n",
    "    total_samples = 0\n",
    "    with torch.no_grad():\n",
    "        for inputs, targets in test_loader:\n",
    "            outputs = model(inputs)\n",
    "            targets = targets.long()\n",
    "            accuracy = calculate_accuracy(outputs, targets)\n",
    "            correct_predictions += accuracy * len(targets)\n",
    "            total_samples += len(targets)\n",
    "\n",
    "    accuracy = 100 * correct_predictions / total_samples\n",
    "    if accuracy > best_accuracy:\n",
    "        best_accuracy = accuracy\n",
    "\n",
    "    print(f\"Epoch [{epoch+1}/{num_epochs}] - Accuracy: {accuracy:.4f}%\")\n",
    "\n",
    "print(f'Best Test Accuracy: {best_accuracy:.2f}%')\n"
   ]
  },
  {
   "cell_type": "markdown",
   "id": "84d2a304-6197-4cd9-b31e-745f7862f213",
   "metadata": {},
   "source": [
    "## Task 5"
   ]
  },
  {
   "cell_type": "markdown",
   "id": "d6e4ef16-d828-45e5-bd58-1c49fcfecf52",
   "metadata": {},
   "source": [
    "### Reflect on your results\n",
    "\n",
    "* Write a paragraph about your experience with tasks 3 and 4. How do you compare the results? Which one worked better? Why?\n",
    "* Write a piece of code that finds an example of a  miss-classification. Calculate the probabilities for the output classes and plot them in a bar chart. Also, indicate what is the correct class label."
   ]
  },
  {
   "cell_type": "markdown",
   "id": "fd64d3d1",
   "metadata": {},
   "source": [
    "### Write a paragraph about your experience with tasks 3 and 4. How do you compare the results? Which one worked better? Why?\n",
    "\n",
    "Task 3 is a regression problem because its objective is to predict the actual number of crime victims. The regression model's multiple hidden layers helped to lower the Mean Squared Error (MSE) loss over epochs\n",
    "Task 4 becomes a classification problem as it moves to categorizing the quantity of crime victims. The unique classes in the dataset's 'VictimCount' column determine the total number of output classes. The only difference between the model architecture and the one in Task 3 is the output layer, which has a number of units equal to the number of classes. The loss function is changed to CrossEntropy.\n",
    "\n",
    "Comparing Task 3 and Task 4's outcomes:\n",
    "\n",
    "- In general, task 4 (classification) yields superior outcomes when assessing the model's performance. This is so that classification problems are more appropriate in situations where you wish to group data into particular classes.\n",
    "\n",
    "- The squared difference between the expected values and the actual targets is used to calculate the mean square error (MSE), which is used to evaluate the model's performance in Task 3 (regression). But it's possible that the MSE value can't always be understood clearly.\n",
    "\n",
    "- Accuracy is the evaluation metric for Task 4. Since accuracy in classification tasks refers to the percentage of correctly classified data points, it is easier to interpret and comprehend.\n",
    "\n",
    "- Comparing the two tasks, Task 4 is a better fit because its outcomes have greater significance when it comes to categorizing crime victim counts. Regression vs. classification, however, is determined by the particular issue at hand as well as the type of data you hope to extract from the model.\n"
   ]
  },
  {
   "cell_type": "code",
   "execution_count": 12,
   "id": "9ddbc63e",
   "metadata": {
    "scrolled": false
   },
   "outputs": [
    {
     "data": {
      "image/png": "[encoded data removed]",
      "text/plain": [
       "<Figure size 640x480 with 1 Axes>"
      ]
     },
     "metadata": {},
     "output_type": "display_data"
    },
    {
     "name": "stdout",
     "output_type": "stream",
     "text": [
      "Correct Label: 1.0, Predicted Class: 0\n"
     ]
    }
   ],
   "source": [
    "import matplotlib.pyplot as plt\n",
    "import random\n",
    "\n",
    "# Evaluating the model\n",
    "model.eval()\n",
    "\n",
    "# Choosing a random data sample from the dataset\n",
    "sample_index = random.randint(0, len(test_dataset))\n",
    "sample = test_dataset[sample_index]\n",
    "\n",
    "# Get the input data\n",
    "input_data, correct_label = sample\n",
    "input_data = input_data.view(1, -1)\n",
    "\n",
    "# Predicting the output\n",
    "with torch.no_grad():\n",
    "    output = model(input_data)\n",
    "    predicted_class = torch.argmax(output, dim=1)\n",
    "\n",
    "# Now to calculate the probabilites of the ouput classes we use softmax function\n",
    "probabilities = torch.softmax(output, dim=1)[0]\n",
    "\n",
    "class_labels = df['VictimCount'].unique()\n",
    "\n",
    "plt.bar(class_labels, probabilities)\n",
    "plt.xlabel('Class Label')\n",
    "plt.ylabel('Probability')\n",
    "plt.title('Class Probabilities')\n",
    "plt.show()\n",
    "\n",
    "print(f\"Correct Label: {correct_label}, Predicted Class: {predicted_class.item()}\")"
   ]
  },
  {
   "cell_type": "markdown",
   "id": "5b000b0b-fa37-4f8d-8ec7-0a1e6e749424",
   "metadata": {},
   "source": [
    "## Task 6: Exploring the patterns in raw data\n",
    "\n",
    "* Plot the crime incidents as a `scatter` plot using the corrdinates. Use the color property of each datapoint to indicate the day of the week. Is there a pattern in the plot?\n",
    "* Now make a new scatter plot and use the color property of each datapoint to indicate the number of persons involved in the incident. Is there a pattern here?\n",
    "* use numpy (or pandas if you like) to sort the number of crimes reported by the day of the week. What days are most frequent?\n"
   ]
  },
  {
   "cell_type": "code",
   "execution_count": 13,
   "id": "5b396aaf-5d1a-49cd-ae1d-b63af7e561f5",
   "metadata": {},
   "outputs": [
    {
     "data": {
      "image/png": "[encoded data removed]",
      "text/plain": [
       "<Figure size 1200x600 with 2 Axes>"
      ]
     },
     "metadata": {},
     "output_type": "display_data"
    }
   ],
   "source": [
    "# Scatter plot based on coordinates, with colors indicating the day of the week\n",
    "plt.figure(figsize=(12, 6))\n",
    "plt.scatter(df['X'], df['Y'], c=df['DayOfWeek'], cmap='viridis', s=10)\n",
    "plt.colorbar(label='Day of the Week')\n",
    "plt.title('Crime Incidents by Coordinates and Day of the Week')\n",
    "plt.xlabel('Longitude (X)')\n",
    "plt.ylabel('Latitude (Y)')\n",
    "plt.show()"
   ]
  },
  {
   "cell_type": "code",
   "execution_count": 14,
   "id": "e03bb968",
   "metadata": {},
   "outputs": [
    {
     "data": {
      "image/png": "[encoded data removed]",
      "text/plain": [
       "<Figure size 1200x600 with 2 Axes>"
      ]
     },
     "metadata": {},
     "output_type": "display_data"
    }
   ],
   "source": [
    "# Scatter plot based on coordinates, with colors indicating the number of persons involved\n",
    "plt.figure(figsize=(12, 6))\n",
    "plt.scatter(df['X'], df['Y'], c=df['VictimCount'], cmap='viridis', s=10)\n",
    "plt.colorbar(label='Number of Persons Involved')\n",
    "plt.title('Crime Incidents by Coordinates and Number of Persons Involved')\n",
    "plt.xlabel('Longitude (X)')\n",
    "plt.ylabel('Latitude (Y)')\n",
    "plt.show()"
   ]
  },
  {
   "cell_type": "code",
   "execution_count": 15,
   "id": "d64457d7",
   "metadata": {},
   "outputs": [
    {
     "name": "stdout",
     "output_type": "stream",
     "text": [
      "DayOfWeek\n",
      "0    40\n",
      "1    37\n",
      "2    32\n",
      "3    44\n",
      "4    51\n",
      "5    43\n",
      "6    28\n",
      "Name: count, dtype: int64\n",
      "The most frequent day is 4 with 51 reported crimes.\n"
     ]
    }
   ],
   "source": [
    "# Sort the number of crimes reported by day of the week\n",
    "day_counts = df['DayOfWeek'].value_counts().sort_index()\n",
    "print(day_counts)\n",
    "\n",
    "# Print the most frequent days\n",
    "most_frequent_days = day_counts.idxmax()\n",
    "print(f\"The most frequent day is {most_frequent_days} with {day_counts.max()} reported crimes.\")"
   ]
  }
 ],
 "metadata": {
  "kernelspec": {
   "display_name": "Python 3 (ipykernel)",
   "language": "python",
   "name": "python3"
  },
  "language_info": {
   "codemirror_mode": {
    "name": "ipython",
    "version": 3
   },
   "file_extension": ".py",
   "mimetype": "text/x-python",
   "name": "python",
   "nbconvert_exporter": "python",
   "pygments_lexer": "ipython3",
   "version": "3.11.3"
  }
 },
 "nbformat": 4,
 "nbformat_minor": 5
}
